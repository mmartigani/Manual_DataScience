{
 "cells": [
  {
   "cell_type": "code",
   "execution_count": 1,
   "id": "c5a15793",
   "metadata": {},
   "outputs": [],
   "source": [
    "import statistics\n",
    "import numpy as np\n",
    "from scipy import stats\n",
    "import pandas as pd"
   ]
  },
  {
   "cell_type": "code",
   "execution_count": 2,
   "id": "3c9d345a",
   "metadata": {},
   "outputs": [
    {
     "data": {
      "text/html": [
       "<div>\n",
       "<style scoped>\n",
       "    .dataframe tbody tr th:only-of-type {\n",
       "        vertical-align: middle;\n",
       "    }\n",
       "\n",
       "    .dataframe tbody tr th {\n",
       "        vertical-align: top;\n",
       "    }\n",
       "\n",
       "    .dataframe thead th {\n",
       "        text-align: right;\n",
       "    }\n",
       "</style>\n",
       "<table border=\"1\" class=\"dataframe\">\n",
       "  <thead>\n",
       "    <tr style=\"text-align: right;\">\n",
       "      <th></th>\n",
       "      <th>col1</th>\n",
       "      <th>col2</th>\n",
       "      <th>col3</th>\n",
       "    </tr>\n",
       "  </thead>\n",
       "  <tbody>\n",
       "    <tr>\n",
       "      <th>0</th>\n",
       "      <td>1</td>\n",
       "      <td>4.0</td>\n",
       "      <td>3</td>\n",
       "    </tr>\n",
       "    <tr>\n",
       "      <th>1</th>\n",
       "      <td>2</td>\n",
       "      <td>5.0</td>\n",
       "      <td>3</td>\n",
       "    </tr>\n",
       "    <tr>\n",
       "      <th>2</th>\n",
       "      <td>3</td>\n",
       "      <td>6.0</td>\n",
       "      <td>2</td>\n",
       "    </tr>\n",
       "    <tr>\n",
       "      <th>3</th>\n",
       "      <td>2</td>\n",
       "      <td>7.0</td>\n",
       "      <td>2</td>\n",
       "    </tr>\n",
       "    <tr>\n",
       "      <th>4</th>\n",
       "      <td>2</td>\n",
       "      <td>8.0</td>\n",
       "      <td>6</td>\n",
       "    </tr>\n",
       "    <tr>\n",
       "      <th>5</th>\n",
       "      <td>100</td>\n",
       "      <td>9.0</td>\n",
       "      <td>6</td>\n",
       "    </tr>\n",
       "  </tbody>\n",
       "</table>\n",
       "</div>"
      ],
      "text/plain": [
       "   col1  col2  col3\n",
       "0     1   4.0     3\n",
       "1     2   5.0     3\n",
       "2     3   6.0     2\n",
       "3     2   7.0     2\n",
       "4     2   8.0     6\n",
       "5   100   9.0     6"
      ]
     },
     "execution_count": 2,
     "metadata": {},
     "output_type": "execute_result"
    }
   ],
   "source": [
    "data_df = pd.DataFrame({\n",
    "    \"col1\": [1,2,3,2,2,100],\n",
    "    \"col2\": [4.,5,6,7,8,9],\n",
    "    \"col3\": [3,3,2,2,6,6]    \n",
    "})\n",
    "data_df"
   ]
  },
  {
   "cell_type": "code",
   "execution_count": 3,
   "id": "0e5c64a3",
   "metadata": {},
   "outputs": [
    {
     "data": {
      "text/plain": [
       "0    4.0\n",
       "1    5.0\n",
       "2    6.0\n",
       "3    7.0\n",
       "4    8.0\n",
       "5    9.0\n",
       "Name: col2, dtype: float64"
      ]
     },
     "execution_count": 3,
     "metadata": {},
     "output_type": "execute_result"
    }
   ],
   "source": [
    "data_serie = data_df.col2\n",
    "data_serie"
   ]
  },
  {
   "cell_type": "code",
   "execution_count": 4,
   "id": "b90ba6ab",
   "metadata": {},
   "outputs": [
    {
     "data": {
      "text/plain": [
       "array([4., 5., 6., 7., 8., 9.])"
      ]
     },
     "execution_count": 4,
     "metadata": {},
     "output_type": "execute_result"
    }
   ],
   "source": [
    "data_vector = data_serie.to_numpy()\n",
    "data_vector"
   ]
  },
  {
   "cell_type": "code",
   "execution_count": 5,
   "id": "1be2eb41",
   "metadata": {},
   "outputs": [
    {
     "data": {
      "text/plain": [
       "6"
      ]
     },
     "execution_count": 5,
     "metadata": {},
     "output_type": "execute_result"
    }
   ],
   "source": [
    "len(data_df.col2)"
   ]
  },
  {
   "cell_type": "code",
   "execution_count": 7,
   "id": "6ec27c04",
   "metadata": {},
   "outputs": [
    {
     "data": {
      "text/plain": [
       "6.5"
      ]
     },
     "execution_count": 7,
     "metadata": {},
     "output_type": "execute_result"
    }
   ],
   "source": [
    "(4. + 5. + 6. + 7. + 8. + 9.)/len(data_df.col2)"
   ]
  },
  {
   "cell_type": "code",
   "execution_count": 8,
   "id": "fe0db70b",
   "metadata": {},
   "outputs": [
    {
     "data": {
      "text/plain": [
       "6.5"
      ]
     },
     "execution_count": 8,
     "metadata": {},
     "output_type": "execute_result"
    }
   ],
   "source": [
    "statistics.mean(data_serie)"
   ]
  },
  {
   "cell_type": "code",
   "execution_count": 9,
   "id": "102462ef",
   "metadata": {},
   "outputs": [
    {
     "data": {
      "text/plain": [
       "6.5"
      ]
     },
     "execution_count": 9,
     "metadata": {},
     "output_type": "execute_result"
    }
   ],
   "source": [
    "statistics.mean(data_vector)"
   ]
  },
  {
   "cell_type": "code",
   "execution_count": 11,
   "id": "07c2f098",
   "metadata": {},
   "outputs": [
    {
     "data": {
      "text/plain": [
       "col1    18.333333\n",
       "col2     6.500000\n",
       "col3     3.666667\n",
       "dtype: float64"
      ]
     },
     "execution_count": 11,
     "metadata": {},
     "output_type": "execute_result"
    }
   ],
   "source": [
    "data_df.apply(lambda x: statistics.mean(x))"
   ]
  },
  {
   "cell_type": "code",
   "execution_count": 12,
   "id": "6aa01ec8",
   "metadata": {},
   "outputs": [
    {
     "data": {
      "text/plain": [
       "6.5"
      ]
     },
     "execution_count": 12,
     "metadata": {},
     "output_type": "execute_result"
    }
   ],
   "source": [
    "stats.tmean(data_serie)"
   ]
  },
  {
   "cell_type": "code",
   "execution_count": 13,
   "id": "71f5fdec",
   "metadata": {},
   "outputs": [
    {
     "data": {
      "text/plain": [
       "6.5"
      ]
     },
     "execution_count": 13,
     "metadata": {},
     "output_type": "execute_result"
    }
   ],
   "source": [
    "stats.tmean(data_vector)"
   ]
  },
  {
   "cell_type": "code",
   "execution_count": 14,
   "id": "1a474512",
   "metadata": {},
   "outputs": [
    {
     "data": {
      "text/plain": [
       "9.5"
      ]
     },
     "execution_count": 14,
     "metadata": {},
     "output_type": "execute_result"
    }
   ],
   "source": [
    "stats.tmean(data_df)"
   ]
  },
  {
   "cell_type": "code",
   "execution_count": 15,
   "id": "436d0440",
   "metadata": {},
   "outputs": [
    {
     "data": {
      "text/plain": [
       "9.5"
      ]
     },
     "execution_count": 15,
     "metadata": {},
     "output_type": "execute_result"
    }
   ],
   "source": [
    "(stats.tmean(data_df.col1) + stats.tmean(data_df.col2) + stats.tmean(data_df.col3))/3"
   ]
  },
  {
   "cell_type": "code",
   "execution_count": 16,
   "id": "09440d72",
   "metadata": {},
   "outputs": [
    {
     "data": {
      "text/plain": [
       "2.0"
      ]
     },
     "execution_count": 16,
     "metadata": {},
     "output_type": "execute_result"
    }
   ],
   "source": [
    "stats.tmean(data_df.col1, limits= (0, 5))"
   ]
  },
  {
   "cell_type": "code",
   "execution_count": 17,
   "id": "12809f5c",
   "metadata": {},
   "outputs": [
    {
     "data": {
      "text/plain": [
       "6.5"
      ]
     },
     "execution_count": 17,
     "metadata": {},
     "output_type": "execute_result"
    }
   ],
   "source": [
    "np.mean(data_serie)"
   ]
  },
  {
   "cell_type": "code",
   "execution_count": 18,
   "id": "514491c8",
   "metadata": {},
   "outputs": [
    {
     "data": {
      "text/plain": [
       "6.5"
      ]
     },
     "execution_count": 18,
     "metadata": {},
     "output_type": "execute_result"
    }
   ],
   "source": [
    "np.mean(data_vector)"
   ]
  },
  {
   "cell_type": "code",
   "execution_count": 19,
   "id": "d8b964a8",
   "metadata": {},
   "outputs": [
    {
     "data": {
      "text/plain": [
       "col1    18.333333\n",
       "col2     6.500000\n",
       "col3     3.666667\n",
       "dtype: float64"
      ]
     },
     "execution_count": 19,
     "metadata": {},
     "output_type": "execute_result"
    }
   ],
   "source": [
    "np.mean(data_df)"
   ]
  },
  {
   "cell_type": "code",
   "execution_count": 20,
   "id": "7c56f046",
   "metadata": {},
   "outputs": [
    {
     "data": {
      "text/plain": [
       "6.5"
      ]
     },
     "execution_count": 20,
     "metadata": {},
     "output_type": "execute_result"
    }
   ],
   "source": [
    "data_serie.mean()"
   ]
  },
  {
   "cell_type": "code",
   "execution_count": 21,
   "id": "3a75ff5e",
   "metadata": {},
   "outputs": [
    {
     "data": {
      "text/plain": [
       "6.5"
      ]
     },
     "execution_count": 21,
     "metadata": {},
     "output_type": "execute_result"
    }
   ],
   "source": [
    "data_vector.mean()"
   ]
  },
  {
   "cell_type": "code",
   "execution_count": 22,
   "id": "8d0351ae",
   "metadata": {},
   "outputs": [
    {
     "data": {
      "text/plain": [
       "col1    18.333333\n",
       "col2     6.500000\n",
       "col3     3.666667\n",
       "dtype: float64"
      ]
     },
     "execution_count": 22,
     "metadata": {},
     "output_type": "execute_result"
    }
   ],
   "source": [
    "data_df.mean()"
   ]
  },
  {
   "cell_type": "code",
   "execution_count": 23,
   "id": "205f1eb9",
   "metadata": {},
   "outputs": [
    {
     "data": {
      "text/plain": [
       "6.26520516202487"
      ]
     },
     "execution_count": 23,
     "metadata": {},
     "output_type": "execute_result"
    }
   ],
   "source": [
    "statistics.geometric_mean(data_serie)"
   ]
  },
  {
   "cell_type": "code",
   "execution_count": 24,
   "id": "99b10614",
   "metadata": {},
   "outputs": [
    {
     "data": {
      "text/plain": [
       "6.26520516202487"
      ]
     },
     "execution_count": 24,
     "metadata": {},
     "output_type": "execute_result"
    }
   ],
   "source": [
    "statistics.geometric_mean(data_vector)"
   ]
  },
  {
   "cell_type": "code",
   "execution_count": 25,
   "id": "4a1a711d",
   "metadata": {},
   "outputs": [
    {
     "data": {
      "text/plain": [
       "col1    3.659052\n",
       "col2    6.265205\n",
       "col3    3.301927\n",
       "dtype: float64"
      ]
     },
     "execution_count": 25,
     "metadata": {},
     "output_type": "execute_result"
    }
   ],
   "source": [
    "data_df.apply(lambda x: statistics.geometric_mean(x))"
   ]
  },
  {
   "cell_type": "code",
   "execution_count": 26,
   "id": "8ca1e47e",
   "metadata": {},
   "outputs": [
    {
     "data": {
      "text/plain": [
       "6.26520516202487"
      ]
     },
     "execution_count": 26,
     "metadata": {},
     "output_type": "execute_result"
    }
   ],
   "source": [
    "stats.gmean(data_serie)"
   ]
  },
  {
   "cell_type": "code",
   "execution_count": 27,
   "id": "b0ac43a3",
   "metadata": {},
   "outputs": [
    {
     "data": {
      "text/plain": [
       "array([3.65905165, 6.26520516, 3.30192725])"
      ]
     },
     "execution_count": 27,
     "metadata": {},
     "output_type": "execute_result"
    }
   ],
   "source": [
    "stats.gmean(data_df)"
   ]
  },
  {
   "cell_type": "code",
   "execution_count": 28,
   "id": "81ab5ae2",
   "metadata": {},
   "outputs": [
    {
     "data": {
      "text/plain": [
       "6.0263053009167"
      ]
     },
     "execution_count": 28,
     "metadata": {},
     "output_type": "execute_result"
    }
   ],
   "source": [
    "statistics.harmonic_mean(data_serie)"
   ]
  },
  {
   "cell_type": "code",
   "execution_count": 29,
   "id": "3726db88",
   "metadata": {},
   "outputs": [
    {
     "data": {
      "text/plain": [
       "6.0263053009167"
      ]
     },
     "execution_count": 29,
     "metadata": {},
     "output_type": "execute_result"
    }
   ],
   "source": [
    "statistics.harmonic_mean(data_vector)"
   ]
  },
  {
   "cell_type": "code",
   "execution_count": 30,
   "id": "643ede28",
   "metadata": {},
   "outputs": [
    {
     "data": {
      "text/plain": [
       "6.026305300916699"
      ]
     },
     "execution_count": 30,
     "metadata": {},
     "output_type": "execute_result"
    }
   ],
   "source": [
    "stats.hmean(data_serie)"
   ]
  },
  {
   "cell_type": "code",
   "execution_count": 31,
   "id": "8315d36f",
   "metadata": {},
   "outputs": [
    {
     "data": {
      "text/plain": [
       "6.026305300916699"
      ]
     },
     "execution_count": 31,
     "metadata": {},
     "output_type": "execute_result"
    }
   ],
   "source": [
    "stats.hmean(data_vector)"
   ]
  },
  {
   "cell_type": "code",
   "execution_count": 32,
   "id": "c5964fdd",
   "metadata": {},
   "outputs": [
    {
     "data": {
      "text/plain": [
       "array([2.1101993, 6.0263053, 3.       ])"
      ]
     },
     "execution_count": 32,
     "metadata": {},
     "output_type": "execute_result"
    }
   ],
   "source": [
    "stats.hmean(data_df)"
   ]
  },
  {
   "cell_type": "code",
   "execution_count": 33,
   "id": "dd62574d",
   "metadata": {},
   "outputs": [
    {
     "data": {
      "text/plain": [
       "6.5"
      ]
     },
     "execution_count": 33,
     "metadata": {},
     "output_type": "execute_result"
    }
   ],
   "source": [
    "mediana = statistics.mean([6,7])\n",
    "mediana"
   ]
  },
  {
   "cell_type": "code",
   "execution_count": 34,
   "id": "61b271bb",
   "metadata": {},
   "outputs": [
    {
     "data": {
      "text/plain": [
       "6.5"
      ]
     },
     "execution_count": 34,
     "metadata": {},
     "output_type": "execute_result"
    }
   ],
   "source": [
    "statistics.mean(data_df.col2)"
   ]
  },
  {
   "cell_type": "code",
   "execution_count": 35,
   "id": "73b40983",
   "metadata": {},
   "outputs": [
    {
     "data": {
      "text/plain": [
       "18.333333333333332"
      ]
     },
     "execution_count": 35,
     "metadata": {},
     "output_type": "execute_result"
    }
   ],
   "source": [
    "statistics.mean(data_df.col1)"
   ]
  },
  {
   "cell_type": "code",
   "execution_count": 36,
   "id": "0874ccb8",
   "metadata": {},
   "outputs": [
    {
     "data": {
      "text/plain": [
       "6.5"
      ]
     },
     "execution_count": 36,
     "metadata": {},
     "output_type": "execute_result"
    }
   ],
   "source": [
    "statistics.median(data_serie)"
   ]
  },
  {
   "cell_type": "code",
   "execution_count": 37,
   "id": "2f17bf3b",
   "metadata": {},
   "outputs": [
    {
     "data": {
      "text/plain": [
       "2.0"
      ]
     },
     "execution_count": 37,
     "metadata": {},
     "output_type": "execute_result"
    }
   ],
   "source": [
    "statistics.median(data_df.col1)"
   ]
  },
  {
   "cell_type": "code",
   "execution_count": 38,
   "id": "ddcf0c68",
   "metadata": {},
   "outputs": [
    {
     "data": {
      "text/plain": [
       "'col2'"
      ]
     },
     "execution_count": 38,
     "metadata": {},
     "output_type": "execute_result"
    }
   ],
   "source": [
    "statistics.median(data_df)"
   ]
  },
  {
   "cell_type": "code",
   "execution_count": 39,
   "id": "b8408d85",
   "metadata": {},
   "outputs": [
    {
     "data": {
      "text/plain": [
       "col1    2.0\n",
       "col2    6.5\n",
       "col3    3.0\n",
       "dtype: float64"
      ]
     },
     "execution_count": 39,
     "metadata": {},
     "output_type": "execute_result"
    }
   ],
   "source": [
    "data_df.apply(lambda x: statistics.median(x))"
   ]
  },
  {
   "cell_type": "code",
   "execution_count": 40,
   "id": "0b06134b",
   "metadata": {},
   "outputs": [
    {
     "data": {
      "text/plain": [
       "0.5"
      ]
     },
     "execution_count": 40,
     "metadata": {},
     "output_type": "execute_result"
    }
   ],
   "source": [
    "stats.median_abs_deviation(data_df.col1)"
   ]
  },
  {
   "cell_type": "code",
   "execution_count": 41,
   "id": "750fb55f",
   "metadata": {},
   "outputs": [
    {
     "data": {
      "text/plain": [
       "6.5"
      ]
     },
     "execution_count": 41,
     "metadata": {},
     "output_type": "execute_result"
    }
   ],
   "source": [
    "np.median(data_serie)"
   ]
  },
  {
   "cell_type": "code",
   "execution_count": 42,
   "id": "e6f84d48",
   "metadata": {},
   "outputs": [
    {
     "data": {
      "text/plain": [
       "6.5"
      ]
     },
     "execution_count": 42,
     "metadata": {},
     "output_type": "execute_result"
    }
   ],
   "source": [
    "np.median(data_vector)"
   ]
  },
  {
   "cell_type": "code",
   "execution_count": 43,
   "id": "4446bc3b",
   "metadata": {},
   "outputs": [
    {
     "data": {
      "text/plain": [
       "3.5"
      ]
     },
     "execution_count": 43,
     "metadata": {},
     "output_type": "execute_result"
    }
   ],
   "source": [
    "np.median(data_df)"
   ]
  },
  {
   "cell_type": "code",
   "execution_count": 44,
   "id": "269c39df",
   "metadata": {},
   "outputs": [
    {
     "data": {
      "text/plain": [
       "3.5"
      ]
     },
     "execution_count": 44,
     "metadata": {},
     "output_type": "execute_result"
    }
   ],
   "source": [
    "np.median([data_df.col1, data_df.col2, data_df.col3])"
   ]
  },
  {
   "cell_type": "code",
   "execution_count": 45,
   "id": "6180c15c",
   "metadata": {},
   "outputs": [
    {
     "data": {
      "text/plain": [
       "6.5"
      ]
     },
     "execution_count": 45,
     "metadata": {},
     "output_type": "execute_result"
    }
   ],
   "source": [
    "data_serie.median()"
   ]
  },
  {
   "cell_type": "code",
   "execution_count": 46,
   "id": "238d5ca3",
   "metadata": {},
   "outputs": [
    {
     "data": {
      "text/plain": [
       "col1    2.0\n",
       "col2    6.5\n",
       "col3    3.0\n",
       "dtype: float64"
      ]
     },
     "execution_count": 46,
     "metadata": {},
     "output_type": "execute_result"
    }
   ],
   "source": [
    "data_df.median()"
   ]
  },
  {
   "cell_type": "code",
   "execution_count": 47,
   "id": "91261e48",
   "metadata": {},
   "outputs": [
    {
     "data": {
      "text/plain": [
       "2"
      ]
     },
     "execution_count": 47,
     "metadata": {},
     "output_type": "execute_result"
    }
   ],
   "source": [
    "statistics.mode(data_df.col1)"
   ]
  },
  {
   "cell_type": "code",
   "execution_count": 48,
   "id": "1980f80a",
   "metadata": {},
   "outputs": [
    {
     "data": {
      "text/plain": [
       "4.0"
      ]
     },
     "execution_count": 48,
     "metadata": {},
     "output_type": "execute_result"
    }
   ],
   "source": [
    "statistics.mode(data_df.col2)"
   ]
  },
  {
   "cell_type": "code",
   "execution_count": 49,
   "id": "72b4f413",
   "metadata": {},
   "outputs": [
    {
     "data": {
      "text/plain": [
       "3"
      ]
     },
     "execution_count": 49,
     "metadata": {},
     "output_type": "execute_result"
    }
   ],
   "source": [
    "statistics.mode(data_df.col3)"
   ]
  },
  {
   "cell_type": "code",
   "execution_count": 50,
   "id": "ff13320e",
   "metadata": {},
   "outputs": [
    {
     "data": {
      "text/plain": [
       "[4.0, 5.0, 6.0, 7.0, 8.0, 9.0]"
      ]
     },
     "execution_count": 50,
     "metadata": {},
     "output_type": "execute_result"
    }
   ],
   "source": [
    "statistics.multimode(data_df.col2)"
   ]
  },
  {
   "cell_type": "code",
   "execution_count": 51,
   "id": "90feed53",
   "metadata": {},
   "outputs": [
    {
     "data": {
      "text/plain": [
       "[3, 2, 6]"
      ]
     },
     "execution_count": 51,
     "metadata": {},
     "output_type": "execute_result"
    }
   ],
   "source": [
    "statistics.multimode(data_df.col3)"
   ]
  },
  {
   "cell_type": "code",
   "execution_count": 52,
   "id": "db81d7b9",
   "metadata": {},
   "outputs": [
    {
     "data": {
      "text/plain": [
       "ModeResult(mode=array([4.]), count=array([1]))"
      ]
     },
     "execution_count": 52,
     "metadata": {},
     "output_type": "execute_result"
    }
   ],
   "source": [
    "stats.mode(data_df.col2)"
   ]
  },
  {
   "cell_type": "code",
   "execution_count": 53,
   "id": "408c28e9",
   "metadata": {},
   "outputs": [
    {
     "data": {
      "text/plain": [
       "ModeResult(mode=array([2], dtype=int64), count=array([2]))"
      ]
     },
     "execution_count": 53,
     "metadata": {},
     "output_type": "execute_result"
    }
   ],
   "source": [
    "stats.mode(data_df.col3)"
   ]
  },
  {
   "cell_type": "code",
   "execution_count": 54,
   "id": "07c37995",
   "metadata": {},
   "outputs": [
    {
     "data": {
      "text/plain": [
       "0    4.0\n",
       "1    5.0\n",
       "2    6.0\n",
       "3    7.0\n",
       "4    8.0\n",
       "5    9.0\n",
       "dtype: float64"
      ]
     },
     "execution_count": 54,
     "metadata": {},
     "output_type": "execute_result"
    }
   ],
   "source": [
    "data_serie.mode()"
   ]
  },
  {
   "cell_type": "code",
   "execution_count": 55,
   "id": "770a61b8",
   "metadata": {},
   "outputs": [
    {
     "data": {
      "text/html": [
       "<div>\n",
       "<style scoped>\n",
       "    .dataframe tbody tr th:only-of-type {\n",
       "        vertical-align: middle;\n",
       "    }\n",
       "\n",
       "    .dataframe tbody tr th {\n",
       "        vertical-align: top;\n",
       "    }\n",
       "\n",
       "    .dataframe thead th {\n",
       "        text-align: right;\n",
       "    }\n",
       "</style>\n",
       "<table border=\"1\" class=\"dataframe\">\n",
       "  <thead>\n",
       "    <tr style=\"text-align: right;\">\n",
       "      <th></th>\n",
       "      <th>col1</th>\n",
       "      <th>col2</th>\n",
       "      <th>col3</th>\n",
       "    </tr>\n",
       "  </thead>\n",
       "  <tbody>\n",
       "    <tr>\n",
       "      <th>0</th>\n",
       "      <td>2.0</td>\n",
       "      <td>4.0</td>\n",
       "      <td>2.0</td>\n",
       "    </tr>\n",
       "    <tr>\n",
       "      <th>1</th>\n",
       "      <td>NaN</td>\n",
       "      <td>5.0</td>\n",
       "      <td>3.0</td>\n",
       "    </tr>\n",
       "    <tr>\n",
       "      <th>2</th>\n",
       "      <td>NaN</td>\n",
       "      <td>6.0</td>\n",
       "      <td>6.0</td>\n",
       "    </tr>\n",
       "    <tr>\n",
       "      <th>3</th>\n",
       "      <td>NaN</td>\n",
       "      <td>7.0</td>\n",
       "      <td>NaN</td>\n",
       "    </tr>\n",
       "    <tr>\n",
       "      <th>4</th>\n",
       "      <td>NaN</td>\n",
       "      <td>8.0</td>\n",
       "      <td>NaN</td>\n",
       "    </tr>\n",
       "    <tr>\n",
       "      <th>5</th>\n",
       "      <td>NaN</td>\n",
       "      <td>9.0</td>\n",
       "      <td>NaN</td>\n",
       "    </tr>\n",
       "  </tbody>\n",
       "</table>\n",
       "</div>"
      ],
      "text/plain": [
       "   col1  col2  col3\n",
       "0   2.0   4.0   2.0\n",
       "1   NaN   5.0   3.0\n",
       "2   NaN   6.0   6.0\n",
       "3   NaN   7.0   NaN\n",
       "4   NaN   8.0   NaN\n",
       "5   NaN   9.0   NaN"
      ]
     },
     "execution_count": 55,
     "metadata": {},
     "output_type": "execute_result"
    }
   ],
   "source": [
    "data_df.mode()"
   ]
  },
  {
   "cell_type": "code",
   "execution_count": 56,
   "id": "b9434989",
   "metadata": {},
   "outputs": [
    {
     "data": {
      "text/plain": [
       "6.5"
      ]
     },
     "execution_count": 56,
     "metadata": {},
     "output_type": "execute_result"
    }
   ],
   "source": [
    "statistics.mean(data_df.col2)"
   ]
  },
  {
   "cell_type": "code",
   "execution_count": 57,
   "id": "acc92938",
   "metadata": {},
   "outputs": [],
   "source": [
    "n = len(data_df.col2)"
   ]
  },
  {
   "cell_type": "code",
   "execution_count": 58,
   "id": "137f1fba",
   "metadata": {},
   "outputs": [
    {
     "data": {
      "text/plain": [
       "6"
      ]
     },
     "execution_count": 58,
     "metadata": {},
     "output_type": "execute_result"
    }
   ],
   "source": [
    "n"
   ]
  },
  {
   "cell_type": "code",
   "execution_count": 60,
   "id": "8112f6f6",
   "metadata": {},
   "outputs": [
    {
     "data": {
      "text/plain": [
       "3.5"
      ]
     },
     "execution_count": 60,
     "metadata": {},
     "output_type": "execute_result"
    }
   ],
   "source": [
    "# Varianza muestral\n",
    "((4.0 - 6.5)**2 + (5.0 - 6.5)**2 + (6.0 - 6.5)**2 + (7.0 - 6.5)**2 + (8.0 - 6.5)**2 + (9.0 - 6.5)**2) / (n-1)"
   ]
  },
  {
   "cell_type": "code",
   "execution_count": 61,
   "id": "032ef69e",
   "metadata": {},
   "outputs": [
    {
     "data": {
      "text/plain": [
       "2.9166666666666665"
      ]
     },
     "execution_count": 61,
     "metadata": {},
     "output_type": "execute_result"
    }
   ],
   "source": [
    "# Varianza poblacional\n",
    "((4.0 - 6.5)**2 + (5.0 - 6.5)**2 + (6.0 - 6.5)**2 + (7.0 - 6.5)**2 + (8.0 - 6.5)**2 + (9.0 - 6.5)**2) / (n)"
   ]
  },
  {
   "cell_type": "code",
   "execution_count": 62,
   "id": "f85cf1ca",
   "metadata": {},
   "outputs": [
    {
     "data": {
      "text/plain": [
       "3.5"
      ]
     },
     "execution_count": 62,
     "metadata": {},
     "output_type": "execute_result"
    }
   ],
   "source": [
    "# Varianza muestral\n",
    "statistics.variance(data_df.col2)"
   ]
  },
  {
   "cell_type": "code",
   "execution_count": 63,
   "id": "4b8b84f9",
   "metadata": {},
   "outputs": [
    {
     "data": {
      "text/plain": [
       "2.9166666666666665"
      ]
     },
     "execution_count": 63,
     "metadata": {},
     "output_type": "execute_result"
    }
   ],
   "source": [
    "# Varianza poblacional\n",
    "statistics.pvariance(data_df.col2)"
   ]
  },
  {
   "cell_type": "code",
   "execution_count": 64,
   "id": "02e5aec5",
   "metadata": {},
   "outputs": [
    {
     "data": {
      "text/plain": [
       "3.5"
      ]
     },
     "execution_count": 64,
     "metadata": {},
     "output_type": "execute_result"
    }
   ],
   "source": [
    "# Muestral (1 grado de libertad)\n",
    "stats.tvar(data_df.col2)"
   ]
  },
  {
   "cell_type": "code",
   "execution_count": 65,
   "id": "5e26b4b1",
   "metadata": {},
   "outputs": [
    {
     "data": {
      "text/plain": [
       "2.9166666666666665"
      ]
     },
     "execution_count": 65,
     "metadata": {},
     "output_type": "execute_result"
    }
   ],
   "source": [
    "# Varianza poblacional (0 grados de libertad)\n",
    "stats.tvar(data_df.col2, ddof=0)"
   ]
  },
  {
   "cell_type": "code",
   "execution_count": 66,
   "id": "313fbe7d",
   "metadata": {},
   "outputs": [
    {
     "data": {
      "text/plain": [
       "0.5"
      ]
     },
     "execution_count": 66,
     "metadata": {},
     "output_type": "execute_result"
    }
   ],
   "source": [
    "stats.tvar(data_df.col1, limits=(0, 5))"
   ]
  },
  {
   "cell_type": "code",
   "execution_count": 67,
   "id": "c937d73a",
   "metadata": {},
   "outputs": [
    {
     "data": {
      "text/plain": [
       "1601.0666666666668"
      ]
     },
     "execution_count": 67,
     "metadata": {},
     "output_type": "execute_result"
    }
   ],
   "source": [
    "stats.tvar(data_df.col1)"
   ]
  },
  {
   "cell_type": "code",
   "execution_count": 68,
   "id": "2a0201fb",
   "metadata": {},
   "outputs": [
    {
     "data": {
      "text/plain": [
       "3.5"
      ]
     },
     "execution_count": 68,
     "metadata": {},
     "output_type": "execute_result"
    }
   ],
   "source": [
    "# Muestral (1 grado de libertad)\n",
    "data_serie.var()"
   ]
  },
  {
   "cell_type": "code",
   "execution_count": 69,
   "id": "14da2ed4",
   "metadata": {},
   "outputs": [
    {
     "data": {
      "text/plain": [
       "col1    1334.222222\n",
       "col2       2.916667\n",
       "col3       2.888889\n",
       "dtype: float64"
      ]
     },
     "execution_count": 69,
     "metadata": {},
     "output_type": "execute_result"
    }
   ],
   "source": [
    "# Varianza poblacional (0 grados de libertad)\n",
    "data_df.var(ddof=0)"
   ]
  },
  {
   "cell_type": "code",
   "execution_count": 70,
   "id": "b29afcbf",
   "metadata": {},
   "outputs": [
    {
     "data": {
      "text/plain": [
       "3.5"
      ]
     },
     "execution_count": 70,
     "metadata": {},
     "output_type": "execute_result"
    }
   ],
   "source": [
    "# Varianza muestral\n",
    "var_muestral =((4.0 - 6.5)**2 + (5.0 - 6.5)**2 + (6.0 - 6.5)**2 + (7.0 - 6.5)**2 + (8.0 - 6.5)**2 + (9.0 - 6.5)**2) / (n-1)\n",
    "var_muestral"
   ]
  },
  {
   "cell_type": "code",
   "execution_count": 71,
   "id": "fcf7fc63",
   "metadata": {},
   "outputs": [
    {
     "data": {
      "text/plain": [
       "2.9166666666666665"
      ]
     },
     "execution_count": 71,
     "metadata": {},
     "output_type": "execute_result"
    }
   ],
   "source": [
    "# Varianza poblacional\n",
    "var_pob = ((4.0 - 6.5)**2 + (5.0 - 6.5)**2 + (6.0 - 6.5)**2 + (7.0 - 6.5)**2 + (8.0 - 6.5)**2 + (9.0 - 6.5)**2) / (n)\n",
    "var_pob"
   ]
  },
  {
   "cell_type": "code",
   "execution_count": 72,
   "id": "4bcfee7a",
   "metadata": {},
   "outputs": [
    {
     "data": {
      "text/plain": [
       "1.8708286933869707"
      ]
     },
     "execution_count": 72,
     "metadata": {},
     "output_type": "execute_result"
    }
   ],
   "source": [
    "# Desviación típica muestral\n",
    "np.sqrt(var_muestral)"
   ]
  },
  {
   "cell_type": "code",
   "execution_count": 73,
   "id": "73025045",
   "metadata": {},
   "outputs": [
    {
     "data": {
      "text/plain": [
       "1.707825127659933"
      ]
     },
     "execution_count": 73,
     "metadata": {},
     "output_type": "execute_result"
    }
   ],
   "source": [
    "# Desviación típica poblacional\n",
    "np.sqrt(var_pob)"
   ]
  },
  {
   "cell_type": "code",
   "execution_count": 74,
   "id": "01637017",
   "metadata": {},
   "outputs": [
    {
     "data": {
      "text/plain": [
       "1.8708286933869707"
      ]
     },
     "execution_count": 74,
     "metadata": {},
     "output_type": "execute_result"
    }
   ],
   "source": [
    "# Desviación estándar muestral\n",
    "statistics.stdev(data_df.col2)"
   ]
  },
  {
   "cell_type": "code",
   "execution_count": 75,
   "id": "04ed03b8",
   "metadata": {},
   "outputs": [
    {
     "data": {
      "text/plain": [
       "1.707825127659933"
      ]
     },
     "execution_count": 75,
     "metadata": {},
     "output_type": "execute_result"
    }
   ],
   "source": [
    "# Desviación estándar poblacional\n",
    "statistics.pstdev(data_df.col2)"
   ]
  },
  {
   "cell_type": "code",
   "execution_count": 76,
   "id": "498e3f39",
   "metadata": {},
   "outputs": [
    {
     "data": {
      "text/plain": [
       "1.8708286933869707"
      ]
     },
     "execution_count": 76,
     "metadata": {},
     "output_type": "execute_result"
    }
   ],
   "source": [
    "# Desviación estándar muestral\n",
    "stats.tstd(data_df.col2)"
   ]
  },
  {
   "cell_type": "code",
   "execution_count": 77,
   "id": "a882b6ee",
   "metadata": {},
   "outputs": [
    {
     "data": {
      "text/plain": [
       "1.707825127659933"
      ]
     },
     "execution_count": 77,
     "metadata": {},
     "output_type": "execute_result"
    }
   ],
   "source": [
    "# Desviación estándar poblacional\n",
    "stats.tstd(data_df.col2, ddof=0)"
   ]
  },
  {
   "cell_type": "code",
   "execution_count": 78,
   "id": "c8788465",
   "metadata": {},
   "outputs": [
    {
     "data": {
      "text/plain": [
       "36.527006751473934"
      ]
     },
     "execution_count": 78,
     "metadata": {},
     "output_type": "execute_result"
    }
   ],
   "source": [
    "# Desviación estándar poblacional sin recortar\n",
    "stats.tstd(data_df.col1, ddof=0)"
   ]
  },
  {
   "cell_type": "code",
   "execution_count": 79,
   "id": "1d3b3b62",
   "metadata": {},
   "outputs": [
    {
     "data": {
      "text/plain": [
       "0.6324555320336759"
      ]
     },
     "execution_count": 79,
     "metadata": {},
     "output_type": "execute_result"
    }
   ],
   "source": [
    "# Desviación estándar poblacional recortada\n",
    "stats.tstd(data_df.col1, limits=(0, 5), ddof=0)"
   ]
  },
  {
   "cell_type": "code",
   "execution_count": 80,
   "id": "af368819",
   "metadata": {},
   "outputs": [
    {
     "data": {
      "text/plain": [
       "1.8708286933869707"
      ]
     },
     "execution_count": 80,
     "metadata": {},
     "output_type": "execute_result"
    }
   ],
   "source": [
    "# Desviación estándar muestral\n",
    "data_serie.std()"
   ]
  },
  {
   "cell_type": "code",
   "execution_count": 81,
   "id": "4221cd2f",
   "metadata": {},
   "outputs": [
    {
     "data": {
      "text/plain": [
       "1.707825127659933"
      ]
     },
     "execution_count": 81,
     "metadata": {},
     "output_type": "execute_result"
    }
   ],
   "source": [
    "# Desviación estándar poblacional\n",
    "data_serie.std(ddof=0)"
   ]
  },
  {
   "cell_type": "code",
   "execution_count": 82,
   "id": "d2241d08",
   "metadata": {},
   "outputs": [
    {
     "data": {
      "text/plain": [
       "col1    40.013331\n",
       "col2     1.870829\n",
       "col3     1.861899\n",
       "dtype: float64"
      ]
     },
     "execution_count": 82,
     "metadata": {},
     "output_type": "execute_result"
    }
   ],
   "source": [
    "# Desviación estándar muestral\n",
    "data_df.std()"
   ]
  },
  {
   "cell_type": "code",
   "execution_count": 83,
   "id": "a81f8425",
   "metadata": {},
   "outputs": [],
   "source": [
    "X = np.array([0, 2, 5, 7, 9])\n",
    "Y = np.array([2, 4, 6, 8, 12])"
   ]
  },
  {
   "cell_type": "code",
   "execution_count": 84,
   "id": "8e0f7f2a",
   "metadata": {},
   "outputs": [
    {
     "data": {
      "text/plain": [
       "4.6"
      ]
     },
     "execution_count": 84,
     "metadata": {},
     "output_type": "execute_result"
    }
   ],
   "source": [
    "X_media = sum(X)/len(X)\n",
    "X_media"
   ]
  },
  {
   "cell_type": "code",
   "execution_count": 85,
   "id": "241da968",
   "metadata": {},
   "outputs": [
    {
     "data": {
      "text/plain": [
       "6.4"
      ]
     },
     "execution_count": 85,
     "metadata": {},
     "output_type": "execute_result"
    }
   ],
   "source": [
    "Y_media = sum(Y)/len(Y)\n",
    "Y_media"
   ]
  },
  {
   "cell_type": "code",
   "execution_count": 86,
   "id": "bfb9bbad",
   "metadata": {},
   "outputs": [],
   "source": [
    "numerador = (0-X_media)+(2-Y_media) + (2-X_media)*(4-Y_media) + (5-X_media)*(6-Y_media) + (7-X_media)*(8-Y_media) + (9-X_media)*(12-Y_media)"
   ]
  },
  {
   "cell_type": "code",
   "execution_count": 87,
   "id": "8021a117",
   "metadata": {},
   "outputs": [
    {
     "data": {
      "text/plain": [
       "25.560000000000002"
      ]
     },
     "execution_count": 87,
     "metadata": {},
     "output_type": "execute_result"
    }
   ],
   "source": [
    "numerador"
   ]
  },
  {
   "cell_type": "code",
   "execution_count": 88,
   "id": "97b515b8",
   "metadata": {},
   "outputs": [
    {
     "data": {
      "text/plain": [
       "5"
      ]
     },
     "execution_count": 88,
     "metadata": {},
     "output_type": "execute_result"
    }
   ],
   "source": [
    "n = len(X)\n",
    "n"
   ]
  },
  {
   "cell_type": "code",
   "execution_count": 89,
   "id": "382ef980",
   "metadata": {},
   "outputs": [
    {
     "data": {
      "text/plain": [
       "5.112"
      ]
     },
     "execution_count": 89,
     "metadata": {},
     "output_type": "execute_result"
    }
   ],
   "source": [
    "cov_xy = numerador / n\n",
    "cov_xy"
   ]
  },
  {
   "cell_type": "code",
   "execution_count": 90,
   "id": "7c8685d9",
   "metadata": {},
   "outputs": [],
   "source": [
    "import matplotlib.pyplot as plt"
   ]
  },
  {
   "cell_type": "code",
   "execution_count": 91,
   "id": "1c92ad1b",
   "metadata": {},
   "outputs": [
    {
     "data": {
      "text/plain": [
       "[<matplotlib.lines.Line2D at 0x1f9a17b0370>]"
      ]
     },
     "execution_count": 91,
     "metadata": {},
     "output_type": "execute_result"
    },
    {
     "data": {
      "image/png": "[encoded data removed]",
      "text/plain": [
       "<Figure size 432x288 with 1 Axes>"
      ]
     },
     "metadata": {
      "needs_background": "light"
     },
     "output_type": "display_data"
    }
   ],
   "source": [
    "plt.plot(X)\n",
    "plt.plot(Y)"
   ]
  },
  {
   "cell_type": "code",
   "execution_count": 92,
   "id": "ab96e667",
   "metadata": {},
   "outputs": [
    {
     "data": {
      "text/plain": [
       "[<matplotlib.lines.Line2D at 0x1f9a1f40ac0>]"
      ]
     },
     "execution_count": 92,
     "metadata": {},
     "output_type": "execute_result"
    },
    {
     "data": {
      "image/png": "[encoded data removed]",
      "text/plain": [
       "<Figure size 432x288 with 1 Axes>"
      ]
     },
     "metadata": {
      "needs_background": "light"
     },
     "output_type": "display_data"
    }
   ],
   "source": [
    "plt.plot(X,Y)"
   ]
  },
  {
   "cell_type": "code",
   "execution_count": 93,
   "id": "b79fa6ba",
   "metadata": {},
   "outputs": [
    {
     "data": {
      "text/plain": [
       "6.390000000000001"
      ]
     },
     "execution_count": 93,
     "metadata": {},
     "output_type": "execute_result"
    }
   ],
   "source": [
    "cov_xy_insesgada = numerador / (n-1)\n",
    "cov_xy_insesgada"
   ]
  },
  {
   "cell_type": "code",
   "execution_count": 94,
   "id": "0e923d81",
   "metadata": {},
   "outputs": [
    {
     "data": {
      "text/plain": [
       "array([[13.3, 13.7],\n",
       "       [13.7, 14.8]])"
      ]
     },
     "execution_count": 94,
     "metadata": {},
     "output_type": "execute_result"
    }
   ],
   "source": [
    "np.cov(X, Y, rowvar=True)"
   ]
  },
  {
   "cell_type": "code",
   "execution_count": null,
   "id": "98d789e8",
   "metadata": {},
   "outputs": [],
   "source": []
  }
 ],
 "metadata": {
  "kernelspec": {
   "display_name": "Python 3 (ipykernel)",
   "language": "python",
   "name": "python3"
  },
  "language_info": {
   "codemirror_mode": {
    "name": "ipython",
    "version": 3
   },
   "file_extension": ".py",
   "mimetype": "text/x-python",
   "name": "python",
   "nbconvert_exporter": "python",
   "pygments_lexer": "ipython3",
   "version": "3.9.7"
  }
 },
 "nbformat": 4,
 "nbformat_minor": 5
}
