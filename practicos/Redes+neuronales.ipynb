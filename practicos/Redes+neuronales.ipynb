{
 "cells": [
  {
   "cell_type": "markdown",
   "metadata": {
    "toc": true
   },
   "source": [
    "<h1>Table of Contents<span class=\"tocSkip\"></span></h1>\n",
    "<div class=\"toc\"><ul class=\"toc-item\"><li><span><a href=\"#Clasificación-y-principales-características\" data-toc-modified-id=\"Clasificación-y-principales-características-1\"><span class=\"toc-item-num\">1&nbsp;&nbsp;</span>Clasificación y principales características</a></span></li><li><span><a href=\"#Objetivo\" data-toc-modified-id=\"Objetivo-2\"><span class=\"toc-item-num\">2&nbsp;&nbsp;</span>Objetivo</a></span></li></ul></div>"
   ]
  },
  {
   "cell_type": "markdown",
   "metadata": {},
   "source": [
    "# Clasificación y principales características"
   ]
  },
  {
   "cell_type": "markdown",
   "metadata": {},
   "source": [
    "- Se utilizan para tareas tanto de clasificación como de regresión, así como para otro tipo de problemas cognitivos que veremos más adelante.\n",
    "- Modelos de aprendizaje supervisado: requieren datos de entrenamiento etiquetados.\n",
    "- De aprendizaje basado en modelo. \n",
    "- De tipo \"eager learning\": durante el entrenamiento se construye un modelo que se utiliza después para hacer las predicciones. \n",
    "- No paramétrico: no hacen suposiciones sobre la distribución que siguen los datos. \n",
    "- Global: se construye un modelo, no se tienen en cuenta únicamente las instancias de entrenamiento más cercanas a las nuevas muestras. "
   ]
  },
  {
   "cell_type": "markdown",
   "metadata": {},
   "source": [
    "# Objetivo"
   ]
  },
  {
   "cell_type": "markdown",
   "metadata": {},
   "source": [
    "Las redes neuronales artificiales están inspiradas en las redes neuronales naturales del cerebro y tienen como objetivo realizar funciones cognitivas imitando la manera en que lo hacemos nosotros. Algunas de sus aplicaciones son, por ejemplo:\n",
    "- Resolución de problemas de clasificación/regresión.\n",
    "- Reconocimiento de imágenes y otras aplicaciones de visión artificial (Computer Vision).\n",
    "- Procesamiento del lenguaje natural (NLP)."
   ]
  }
 ],
 "metadata": {
  "kernelspec": {
   "display_name": "Python 3",
   "language": "python",
   "name": "python3"
  },
  "language_info": {
   "codemirror_mode": {
    "name": "ipython",
    "version": 3
   },
   "file_extension": ".py",
   "mimetype": "text/x-python",
   "name": "python",
   "nbconvert_exporter": "python",
   "pygments_lexer": "ipython3",
   "version": "3.8.5"
  },
  "toc": {
   "base_numbering": 1,
   "nav_menu": {},
   "number_sections": true,
   "sideBar": true,
   "skip_h1_title": false,
   "title_cell": "Table of Contents",
   "title_sidebar": "Contents",
   "toc_cell": true,
   "toc_position": {},
   "toc_section_display": true,
   "toc_window_display": false
  },
  "varInspector": {
   "cols": {
    "lenName": 16,
    "lenType": 16,
    "lenVar": 40
   },
   "kernels_config": {
    "python": {
     "delete_cmd_postfix": "",
     "delete_cmd_prefix": "del ",
     "library": "var_list.py",
     "varRefreshCmd": "print(var_dic_list())"
    },
    "r": {
     "delete_cmd_postfix": ") ",
     "delete_cmd_prefix": "rm(",
     "library": "var_list.r",
     "varRefreshCmd": "cat(var_dic_list()) "
    }
   },
   "types_to_exclude": [
    "module",
    "function",
    "builtin_function_or_method",
    "instance",
    "_Feature"
   ],
   "window_display": false
  }
 },
 "nbformat": 4,
 "nbformat_minor": 4
}
